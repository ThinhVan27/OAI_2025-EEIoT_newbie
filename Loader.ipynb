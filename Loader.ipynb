{
  "cells": [
    {
      "cell_type": "code",
      "execution_count": null,
      "metadata": {
        "colab": {
          "base_uri": "https://localhost:8080/"
        },
        "collapsed": true,
        "id": "EnMUgtAqltOs",
        "outputId": "f889dfe6-fa99-4ca9-97d7-2f3fc13bd0d0"
      },
      "outputs": [
        {
          "output_type": "stream",
          "name": "stdout",
          "text": [
            "Archive:  Source_1745039813 (1).zip\n",
            "   creating: MAIN/OAI_2025_Project_Skeleton/\n",
            "   creating: MAIN/OAI_2025_Project_Skeleton/data/\n",
            "   creating: MAIN/OAI_2025_Project_Skeleton/data/test/\n",
            "  inflating: MAIN/OAI_2025_Project_Skeleton/data/test/image_01.jpg  \n",
            "  inflating: MAIN/OAI_2025_Project_Skeleton/data/test/image_02.jpg  \n",
            "  inflating: MAIN/OAI_2025_Project_Skeleton/data/test/image_03.jpg  \n",
            "  inflating: MAIN/OAI_2025_Project_Skeleton/data/test/image_04.jpg  \n",
            "   creating: MAIN/OAI_2025_Project_Skeleton/data/train/\n",
            "OAI_2025_Project_Skeleton/data/train/bào ngư xám + trắng/:  mismatching \"local\" filename (OAI_2025_Project_Skeleton/data/train/b├аo ng╞░ x├бm + trс║пng/),\n",
            "         continuing with \"central\" filename version\n",
            "   creating: MAIN/OAI_2025_Project_Skeleton/data/train/bào ngư xám + trắng/\n",
            "OAI_2025_Project_Skeleton/data/train/bào ngư xám + trắng/BN347.jpg:  mismatching \"local\" filename (OAI_2025_Project_Skeleton/data/train/b├аo ng╞░ x├бm + trс║пng/BN347.jpg),\n",
            "         continuing with \"central\" filename version\n",
            "  inflating: MAIN/OAI_2025_Project_Skeleton/data/train/bào ngư xám + trắng/BN347.jpg  \n",
            "OAI_2025_Project_Skeleton/data/train/bào ngư xám + trắng/BN348.jpg:  mismatching \"local\" filename (OAI_2025_Project_Skeleton/data/train/b├аo ng╞░ x├бm + trс║пng/BN348.jpg),\n",
            "         continuing with \"central\" filename version\n",
            "  inflating: MAIN/OAI_2025_Project_Skeleton/data/train/bào ngư xám + trắng/BN348.jpg  \n",
            "OAI_2025_Project_Skeleton/data/train/bào ngư xám + trắng/BN349.jpg:  mismatching \"local\" filename (OAI_2025_Project_Skeleton/data/train/b├аo ng╞░ x├бm + trс║пng/BN349.jpg),\n",
            "         continuing with \"central\" filename version\n",
            "  inflating: MAIN/OAI_2025_Project_Skeleton/data/train/bào ngư xám + trắng/BN349.jpg  \n",
            "OAI_2025_Project_Skeleton/data/train/bào ngư xám + trắng/BN350.jpg:  mismatching \"local\" filename (OAI_2025_Project_Skeleton/data/train/b├аo ng╞░ x├бm + trс║пng/BN350.jpg),\n",
            "         continuing with \"central\" filename version\n",
            "  inflating: MAIN/OAI_2025_Project_Skeleton/data/train/bào ngư xám + trắng/BN350.jpg  \n",
            "OAI_2025_Project_Skeleton/data/train/linh chi trắng/:  mismatching \"local\" filename (OAI_2025_Project_Skeleton/data/train/linh chi trс║пng/),\n",
            "         continuing with \"central\" filename version\n",
            "   creating: MAIN/OAI_2025_Project_Skeleton/data/train/linh chi trắng/\n",
            "OAI_2025_Project_Skeleton/data/train/linh chi trắng/LC347.jpg:  mismatching \"local\" filename (OAI_2025_Project_Skeleton/data/train/linh chi trс║пng/LC347.jpg),\n",
            "         continuing with \"central\" filename version\n",
            "  inflating: MAIN/OAI_2025_Project_Skeleton/data/train/linh chi trắng/LC347.jpg  \n",
            "OAI_2025_Project_Skeleton/data/train/linh chi trắng/LC348.jpg:  mismatching \"local\" filename (OAI_2025_Project_Skeleton/data/train/linh chi trс║пng/LC348.jpg),\n",
            "         continuing with \"central\" filename version\n",
            "  inflating: MAIN/OAI_2025_Project_Skeleton/data/train/linh chi trắng/LC348.jpg  \n",
            "OAI_2025_Project_Skeleton/data/train/linh chi trắng/LC349.jpg:  mismatching \"local\" filename (OAI_2025_Project_Skeleton/data/train/linh chi trс║пng/LC349.jpg),\n",
            "         continuing with \"central\" filename version\n",
            "  inflating: MAIN/OAI_2025_Project_Skeleton/data/train/linh chi trắng/LC349.jpg  \n",
            "OAI_2025_Project_Skeleton/data/train/linh chi trắng/LC350.jpg:  mismatching \"local\" filename (OAI_2025_Project_Skeleton/data/train/linh chi trс║пng/LC350.jpg),\n",
            "         continuing with \"central\" filename version\n",
            "  inflating: MAIN/OAI_2025_Project_Skeleton/data/train/linh chi trắng/LC350.jpg  \n",
            "OAI_2025_Project_Skeleton/data/train/nấm mỡ/:  mismatching \"local\" filename (OAI_2025_Project_Skeleton/data/train/nс║еm mс╗б/),\n",
            "         continuing with \"central\" filename version\n",
            "   creating: MAIN/OAI_2025_Project_Skeleton/data/train/nấm mỡ/\n",
            "OAI_2025_Project_Skeleton/data/train/nấm mỡ/NM347.jpg:  mismatching \"local\" filename (OAI_2025_Project_Skeleton/data/train/nс║еm mс╗б/NM347.jpg),\n",
            "         continuing with \"central\" filename version\n",
            "  inflating: MAIN/OAI_2025_Project_Skeleton/data/train/nấm mỡ/NM347.jpg  \n",
            "OAI_2025_Project_Skeleton/data/train/nấm mỡ/NM348.jpg:  mismatching \"local\" filename (OAI_2025_Project_Skeleton/data/train/nс║еm mс╗б/NM348.jpg),\n",
            "         continuing with \"central\" filename version\n",
            "  inflating: MAIN/OAI_2025_Project_Skeleton/data/train/nấm mỡ/NM348.jpg  \n",
            "OAI_2025_Project_Skeleton/data/train/nấm mỡ/NM349.jpg:  mismatching \"local\" filename (OAI_2025_Project_Skeleton/data/train/nс║еm mс╗б/NM349.jpg),\n",
            "         continuing with \"central\" filename version\n",
            "  inflating: MAIN/OAI_2025_Project_Skeleton/data/train/nấm mỡ/NM349.jpg  \n",
            "OAI_2025_Project_Skeleton/data/train/nấm mỡ/NM350.jpg:  mismatching \"local\" filename (OAI_2025_Project_Skeleton/data/train/nс║еm mс╗б/NM350.jpg),\n",
            "         continuing with \"central\" filename version\n",
            "  inflating: MAIN/OAI_2025_Project_Skeleton/data/train/nấm mỡ/NM350.jpg  \n",
            "OAI_2025_Project_Skeleton/data/train/Đùi gà Baby (cắt ngắn)/:  mismatching \"local\" filename (OAI_2025_Project_Skeleton/data/train/─Р├╣i g├а Baby (cс║пt ngс║пn)/),\n",
            "         continuing with \"central\" filename version\n",
            "   creating: MAIN/OAI_2025_Project_Skeleton/data/train/Đùi gà Baby (cắt ngắn)/\n",
            "OAI_2025_Project_Skeleton/data/train/Đùi gà Baby (cắt ngắn)/DG347.jpg:  mismatching \"local\" filename (OAI_2025_Project_Skeleton/data/train/─Р├╣i g├а Baby (cс║пt ngс║пn)/DG347.jpg),\n",
            "         continuing with \"central\" filename version\n",
            "  inflating: MAIN/OAI_2025_Project_Skeleton/data/train/Đùi gà Baby (cắt ngắn)/DG347.jpg  \n",
            "OAI_2025_Project_Skeleton/data/train/Đùi gà Baby (cắt ngắn)/DG348.jpg:  mismatching \"local\" filename (OAI_2025_Project_Skeleton/data/train/─Р├╣i g├а Baby (cс║пt ngс║пn)/DG348.jpg),\n",
            "         continuing with \"central\" filename version\n",
            "  inflating: MAIN/OAI_2025_Project_Skeleton/data/train/Đùi gà Baby (cắt ngắn)/DG348.jpg  \n",
            "OAI_2025_Project_Skeleton/data/train/Đùi gà Baby (cắt ngắn)/DG349.jpg:  mismatching \"local\" filename (OAI_2025_Project_Skeleton/data/train/─Р├╣i g├а Baby (cс║пt ngс║пn)/DG349.jpg),\n",
            "         continuing with \"central\" filename version\n",
            "  inflating: MAIN/OAI_2025_Project_Skeleton/data/train/Đùi gà Baby (cắt ngắn)/DG349.jpg  \n",
            "OAI_2025_Project_Skeleton/data/train/Đùi gà Baby (cắt ngắn)/DG350.jpg:  mismatching \"local\" filename (OAI_2025_Project_Skeleton/data/train/─Р├╣i g├а Baby (cс║пt ngс║пn)/DG350.jpg),\n",
            "         continuing with \"central\" filename version\n",
            "  inflating: MAIN/OAI_2025_Project_Skeleton/data/train/Đùi gà Baby (cắt ngắn)/DG350.jpg  \n",
            "   creating: MAIN/OAI_2025_Project_Skeleton/libs/\n",
            "  inflating: MAIN/OAI_2025_Project_Skeleton/libs/models.py  \n",
            "  inflating: MAIN/OAI_2025_Project_Skeleton/libs/predict.py  \n",
            "  inflating: MAIN/OAI_2025_Project_Skeleton/libs/setup_data.py  \n",
            "  inflating: MAIN/OAI_2025_Project_Skeleton/libs/training.py  \n",
            "   creating: MAIN/OAI_2025_Project_Skeleton/libs/__pycache__/\n",
            "  inflating: MAIN/OAI_2025_Project_Skeleton/libs/__pycache__/models.cpython-312.pyc  \n",
            "  inflating: MAIN/OAI_2025_Project_Skeleton/libs/__pycache__/predict.cpython-312.pyc  \n",
            "  inflating: MAIN/OAI_2025_Project_Skeleton/libs/__pycache__/setup_data.cpython-312.pyc  \n",
            "  inflating: MAIN/OAI_2025_Project_Skeleton/libs/__pycache__/training.cpython-312.pyc  \n",
            "  inflating: MAIN/OAI_2025_Project_Skeleton/main.py  \n",
            "   creating: MAIN/OAI_2025_Project_Skeleton/output/\n",
            "  inflating: MAIN/OAI_2025_Project_Skeleton/output/results.csv  \n",
            "  inflating: MAIN/OAI_2025_Project_Skeleton/requirements.txt  \n",
            "unzip:  cannot find or open aio-hutech.zip, aio-hutech.zip.zip or aio-hutech.zip.ZIP.\n"
          ]
        }
      ],
      "source": [
        "!unzip source.zip -d MAIN\n",
        "!unzip train.zip -d train\n",
        "!unzip test.zip -d test"
      ]
    },
    {
      "cell_type": "code",
      "source": [
        "!rm -r MAIN/OAI_2025_Project_Skeleton/data"
      ],
      "metadata": {
        "id": "CsifRWlyZ-gO"
      },
      "execution_count": null,
      "outputs": []
    },
    {
      "cell_type": "code",
      "execution_count": null,
      "metadata": {
        "id": "7DflkeXQl2Ny",
        "collapsed": true
      },
      "outputs": [],
      "source": [
        "import shutil\n",
        "import os\n",
        "\n",
        "shutil.copytree(src='train',\n",
        "                dst='MAIN/OAI_2025_Project_Skeleton/data/train',\n",
        "                dirs_exist_ok=True)\n",
        "shutil.copytree(src='test',\n",
        "                dst='MAIN/OAI_2025_Project_Skeleton/data/test',\n",
        "                dirs_exist_ok=True)"
      ]
    },
    {
      "cell_type": "code",
      "execution_count": null,
      "metadata": {
        "colab": {
          "base_uri": "https://localhost:8080/"
        },
        "id": "RZX9K0ZDl3-D",
        "outputId": "9a506505-31b9-4ec2-e8b7-3dd98c01143f"
      },
      "outputs": [
        {
          "output_type": "stream",
          "name": "stdout",
          "text": [
            "Setting up training and test datasets with mixed augmentation strategies...\n",
            "Using multi-augmentation strategy (5 copies with different transforms)\n",
            "Training samples: 5400\n",
            "Validation samples: 600\n",
            "Test samples: 600\n",
            "\n",
            "Creating deep-mutual-learning-models with 4 classes...\n",
            "Downloading: \"https://download.pytorch.org/models/efficientnet_v2_m-dc08266a.pth\" to /root/.cache/torch/hub/checkpoints/efficientnet_v2_m-dc08266a.pth\n",
            "100% 208M/208M [00:01<00:00, 200MB/s]\n",
            "Downloading: \"https://download.pytorch.org/models/resnet101-cd907fc2.pth\" to /root/.cache/torch/hub/checkpoints/resnet101-cd907fc2.pth\n",
            "100% 171M/171M [00:00<00:00, 252MB/s]\n",
            "\n",
            "=== Starting model training ===\n",
            "Epoch 1/15 - Train Loss: 1.3379, Train Accuracy: 48.30% - Val Loss: 1.1147, Val Accuracy: 77.22%\n",
            "Saved best models with validation accuracy: 77.2222\n",
            "Epoch 2/15 - Train Loss: 0.8201, Train Accuracy: 89.15% - Val Loss: 0.4051, Val Accuracy: 98.33%\n",
            "Saved best models with validation accuracy: 98.3333\n",
            "Epoch 3/15 - Train Loss: 0.4996, Train Accuracy: 97.94% - Val Loss: 0.3704, Val Accuracy: 99.44%\n",
            "Saved best models with validation accuracy: 99.4444\n",
            "Epoch 4/15 - Train Loss: 0.4397, Train Accuracy: 99.03% - Val Loss: 0.3670, Val Accuracy: 99.67%\n",
            "Saved best models with validation accuracy: 99.6667\n",
            "Epoch 5/15 - Train Loss: 0.4144, Train Accuracy: 99.35% - Val Loss: 0.3562, Val Accuracy: 99.83%\n",
            "Saved best models with validation accuracy: 99.8333\n",
            "Epoch 6/15 - Train Loss: 0.4093, Train Accuracy: 99.36% - Val Loss: 0.3553, Val Accuracy: 99.83%\n",
            "Epoch 7/15 - Train Loss: 0.3990, Train Accuracy: 99.52% - Val Loss: 0.3531, Val Accuracy: 99.89%\n",
            "Saved best models with validation accuracy: 99.8889\n",
            "Epoch 8/15 - Train Loss: 0.3886, Train Accuracy: 99.68% - Val Loss: 0.3521, Val Accuracy: 99.94%\n",
            "Saved best models with validation accuracy: 99.9444\n",
            "Epoch 9/15 - Train Loss: 0.3882, Train Accuracy: 99.65% - Val Loss: 0.3547, Val Accuracy: 99.78%\n",
            "Epoch 10/15 - Train Loss: 0.3852, Train Accuracy: 99.70% - Val Loss: 0.3509, Val Accuracy: 99.94%\n",
            "Epoch 11/15 - Train Loss: 0.3812, Train Accuracy: 99.75% - Val Loss: 0.3511, Val Accuracy: 99.89%\n",
            "Early stopping triggered after 11 epochs\n",
            "Figure(1200x400)\n",
            "Training completed!\n",
            "Models loaded successfully!\n",
            "\n",
            "=== Making predictions on test data ===\n",
            "Model 1 running on: cuda:0\n",
            "Model 2 running on: cuda:0\n",
            "Model 3 running on: cuda:0\n",
            "Processed 0/19 batches\n",
            "Processed 10/19 batches\n",
            "\n",
            "Submission sample (BEFORE saving):\n",
            "                   image_name  label\n",
            "0  1745207819387_4839df69.jpg      0\n",
            "1  1745207819409_eafab312.jpg      2\n",
            "2  1745207819425_a1b56d6e.jpg      1\n",
            "3  1745207819439_9351b600.jpg      1\n",
            "4  1745207819454_a42d3dac.jpg      2\n",
            "5  1745207819469_5070a115.jpg      0\n",
            "6  1745207819484_235bdfe9.jpg      3\n",
            "7  1745207819500_8cb45ef9.jpg      3\n",
            "8  1745207819516_5f8f00a3.jpg      1\n",
            "9  1745207819532_f3ec6db5.jpg      1\n",
            "Submission file created: MAIN/OAI_2025_Project_Skeleton/output/results.csv\n",
            "\n",
            "Verifying saved file by reading it back:\n",
            "Sample from saved file:\n",
            "                   image_name  label\n",
            "0  1745207819387_4839df69.jpg      0\n",
            "1  1745207819409_eafab312.jpg      2\n",
            "2  1745207819425_a1b56d6e.jpg      1\n",
            "3  1745207819439_9351b600.jpg      1\n",
            "4  1745207819454_a42d3dac.jpg      2\n",
            "5  1745207819469_5070a115.jpg      0\n",
            "6  1745207819484_235bdfe9.jpg      3\n",
            "7  1745207819500_8cb45ef9.jpg      3\n",
            "8  1745207819516_5f8f00a3.jpg      1\n",
            "9  1745207819532_f3ec6db5.jpg      1\n",
            "\n",
            "=== Process completed successfully! ===\n"
          ]
        }
      ],
      "source": [
        "!python3 MAIN/OAI_2025_Project_Skeleton/main.py"
      ]
    }
  ],
  "metadata": {
    "colab": {
      "machine_shape": "hm",
      "provenance": []
    },
    "kernelspec": {
      "display_name": "Python 3",
      "name": "python3"
    },
    "language_info": {
      "name": "python"
    }
  },
  "nbformat": 4,
  "nbformat_minor": 0
}